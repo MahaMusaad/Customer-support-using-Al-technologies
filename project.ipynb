{
 "cells": [
  {
   "cell_type": "code",
   "execution_count": 1,
   "metadata": {},
   "outputs": [],
   "source": [
    "from langchain_community.document_loaders.csv_loader import CSVLoader\n",
    "from langchain_openai import OpenAI, embeddings, OpenAIEmbeddings,ChatOpenAI\n",
    "import pandas as pd\n",
    "from langchain_pinecone import PineconeVectorStore\n",
    "from langchain_core.prompts import PromptTemplate\n",
    "import os\n",
    "import ollama\n",
    "from pin import PIN_KEY\n",
    "from sec_opennAI import OPEN_SEC_KEY\n",
    "\n",
    "#######################################\n",
    "os.environ[\"OPENAI_API_KEY\"] = OPEN_SEC_KEY\n",
    "os.environ[\"PINECONE_API_KEY\"] = PIN_KEY"
   ]
  },
  {
   "cell_type": "markdown",
   "metadata": {},
   "source": [
    "use openAI embedding and connect to pincone db"
   ]
  },
  {
   "cell_type": "code",
   "execution_count": 2,
   "metadata": {},
   "outputs": [],
   "source": [
    "#######################################\n",
    "index_name = \"wusool\" # wusool\n",
    "embeddings = OpenAIEmbeddings(\n",
    "    api_key=OPEN_SEC_KEY)\n",
    "\n",
    "pc = PineconeVectorStore(index_name=index_name, embedding=embeddings)"
   ]
  },
  {
   "cell_type": "markdown",
   "metadata": {},
   "source": [
    "get user quary and retrive similers from db"
   ]
  },
  {
   "cell_type": "code",
   "execution_count": null,
   "metadata": {},
   "outputs": [],
   "source": [
    "quary = \"خدمة وصول لاتعمل لدي الرجاء حل الإشكالية في اسرع وقت\"\n",
    "#quary =\"ماهي عاصمة المملكة العربية السعودية\" #\n",
    "#quary = \"استخدمت اوبر مدة شهر وجاتني اشعار انها انتهى الاشتراك ولازال يوجد رصيد\" \n",
    "# quary =الية التسجيل في وصول؟\"\n",
    "similer_awnsers = pc.similarity_search(quary,k=4)\n",
    "context = \"\\n\".join([x.page_content for x in similer_awnsers])\n",
    "print(context)"
   ]
  },
  {
   "cell_type": "markdown",
   "metadata": {},
   "source": [
    "combain system prompt + context + user quary and generate response"
   ]
  },
  {
   "cell_type": "code",
   "execution_count": null,
   "metadata": {},
   "outputs": [],
   "source": [
    "\n",
    "\n",
    "messages=[\n",
    "  {\n",
    "      \n",
    "    'role': 'system',\n",
    "    'content': f\"\"\"  \n",
    "\n",
    "You are wusool assistant designted to help answer qustions about wusool platform, you only answer in Arabic, you only answer qustions relaterd to wusool platform and nothing else ,here is a context to answer from privous users who asked similer qustions\n",
    "{context}\n",
    "\n",
    "keep your answer limted to the below template : \n",
    "السؤال : \n",
    "التصنيف : \n",
    "الاجابة : \n",
    "\n",
    " \"\"\"\n",
    "    \n",
    "  },{\n",
    "\n",
    "    'role': 'user',\n",
    "    'content': quary,}\n",
    "]\n",
    "\n",
    "llm = ChatOpenAI(\n",
    "    model=\"gpt-4o\",\n",
    "    temperature=0,\n",
    "    max_tokens=None,\n",
    "    timeout=None,\n",
    "    max_retries=2,\n",
    "     api_key=OPEN_SEC_KEY \n",
    ")\n",
    "\n",
    "ai_msg = llm.invoke(messages)\n",
    "print(ai_msg.content)\n"
   ]
  }
 ],
 "metadata": {
  "kernelspec": {
   "display_name": "Python 3",
   "language": "python",
   "name": "python3"
  },
  "language_info": {
   "codemirror_mode": {
    "name": "ipython",
    "version": 3
   },
   "file_extension": ".py",
   "mimetype": "text/x-python",
   "name": "python",
   "nbconvert_exporter": "python",
   "pygments_lexer": "ipython3",
   "version": "3.12.4"
  }
 },
 "nbformat": 4,
 "nbformat_minor": 2
}
